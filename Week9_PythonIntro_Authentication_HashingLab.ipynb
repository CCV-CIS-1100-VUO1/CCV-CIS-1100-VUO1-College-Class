{
  "nbformat": 4,
  "nbformat_minor": 0,
  "metadata": {
    "colab": {
      "provenance": [],
      "include_colab_link": true
    },
    "kernelspec": {
      "name": "python3",
      "display_name": "Python 3"
    },
    "language_info": {
      "name": "python"
    }
  },
  "cells": [
    {
      "cell_type": "markdown",
      "metadata": {
        "id": "view-in-github",
        "colab_type": "text"
      },
      "source": [
        "<a href=\"https://colab.research.google.com/github/CCV-CIS-1100-VUO1/CCV-CIS-1100-VUO1-College-Class/blob/main/Week9_PythonIntro_Authentication_HashingLab.ipynb\" target=\"_parent\"><img src=\"https://colab.research.google.com/assets/colab-badge.svg\" alt=\"Open In Colab\"/></a>"
      ]
    },
    {
      "cell_type": "markdown",
      "source": [
        "#  Week 9 Lab - Intro to Python, Authentication & Hashing Algorithms\n",
        "\n",
        "Python is a high-level, interpreted, and versatile programming language. It is widely used for various applications, including web development, data analysis, machine learning, automation, and more.\n",
        "\n",
        "In this notebook, we will review the basic syntax and concepts of Python and then jump into a lab on HTTP Authentication and then Hashining Encryption Algorithms."
      ],
      "metadata": {
        "id": "YLk3aD6YHxI8"
      }
    },
    {
      "cell_type": "code",
      "source": [
        "# 1. Python Variables\n",
        "print(\"Snek Chaos:\")\n",
        "# Variables are used to store values. In Python, you don't need to explicitly declare the data type of a variable.\n",
        "x = 17\n",
        "y = \"The weather outside is frightful\"\n",
        "print(x)\n",
        "print(y)"
      ],
      "metadata": {
        "colab": {
          "base_uri": "https://localhost:8080/"
        },
        "id": "hMj1yJfVIZ5o",
        "outputId": "e3c130b6-38a2-4563-ddba-48105ee7e2e3"
      },
      "execution_count": null,
      "outputs": [
        {
          "output_type": "stream",
          "name": "stdout",
          "text": [
            "Snek Chaos:\n",
            "17\n",
            "The weather outside is frightful\n"
          ]
        }
      ]
    },
    {
      "cell_type": "code",
      "source": [
        "# 2. Python Data Types\n",
        "print(\"\\nPython Data Types:\")\n",
        "\n",
        "# Python has several built-in data types, including:\n",
        "# - Numbers (int, float, complex)\n",
        "# - Strings\n",
        "# - Lists\n",
        "# - Tuples\n",
        "# - Dictionaries\n",
        "# - Sets\n",
        "# - Booleans\n",
        "\n",
        "# Examples:\n",
        "integer_value = 105\n",
        "float_value = 3.14\n",
        "complex_value = 2 + 3j\n",
        "string_value = \"Python is awesome!\"\n",
        "boolean_value = True\n",
        "\n",
        "print(integer_value, type(integer_value))\n",
        "print(float_value, type(float_value))\n",
        "print(complex_value, type(complex_value))\n",
        "print(string_value, type(string_value))\n",
        "print(boolean_value, type(boolean_value))"
      ],
      "metadata": {
        "colab": {
          "base_uri": "https://localhost:8080/"
        },
        "id": "s_ZEKvwOHXyu",
        "outputId": "2cbaf0ab-388d-4e9f-de1f-8f3433d83877"
      },
      "execution_count": null,
      "outputs": [
        {
          "output_type": "stream",
          "name": "stdout",
          "text": [
            "\n",
            "Python Data Types:\n",
            "105 <class 'int'>\n",
            "3.14 <class 'float'>\n",
            "(2+3j) <class 'complex'>\n",
            "Python is awesome! <class 'str'>\n",
            "True <class 'bool'>\n"
          ]
        }
      ]
    },
    {
      "cell_type": "code",
      "source": [
        "# 3. Python Operators\n",
        "print(\"\\nPython Operators:\")\n",
        "\n",
        "# Python supports various operators, such as arithmetic, assignment, comparison, logical, and more.\n",
        "a = 10\n",
        "b = 3\n",
        "\n",
        "# Arithmetic operators\n",
        "print(\"10 + 3 =\", a + b)\n",
        "print(\"10 - 3 =\", a - b)\n",
        "print(\"10 * 3 =\", a * b)\n",
        "print(\"10 / 3 =\", a / b)\n",
        "\n",
        "# Comparison operators\n",
        "print(\"10 > 3 =\", a > b)\n",
        "print(\"10 < 3 =\", a < b)\n",
        "print(\"10 == 3 =\", a == b)"
      ],
      "metadata": {
        "colab": {
          "base_uri": "https://localhost:8080/"
        },
        "id": "bBbqWbk0I7ax",
        "outputId": "af95a275-0be7-4385-992e-0bfa14e1a39b"
      },
      "execution_count": null,
      "outputs": [
        {
          "output_type": "stream",
          "name": "stdout",
          "text": [
            "\n",
            "Python Operators:\n",
            "10 + 3 = 13\n",
            "10 - 3 = 7\n",
            "10 * 3 = 30\n",
            "10 / 3 = 3.3333333333333335\n",
            "10 > 3 = True\n",
            "10 < 3 = False\n",
            "10 == 3 = False\n"
          ]
        }
      ]
    },
    {
      "cell_type": "code",
      "source": [
        "# 4. Python Conditionals\n",
        "print(\"\\nPython Conditionals:\")\n",
        "\n",
        "# Conditionals allow you to control the flow of your program based on certain conditions.\n",
        "age = 2\n",
        "\n",
        "if age < 18:\n",
        "    print(\"You is smol.\")\n",
        "elif age >= 18 and age < 65:\n",
        "    print(\"You're mid.\")\n",
        "else:\n",
        "    print(\"Venerated Elder I beseech you bestow your wisdom.\")"
      ],
      "metadata": {
        "colab": {
          "base_uri": "https://localhost:8080/"
        },
        "id": "5g1tAlp9JBKB",
        "outputId": "983f59d0-9239-4c5e-9ed4-592a4ed8d3e6"
      },
      "execution_count": 10,
      "outputs": [
        {
          "output_type": "stream",
          "name": "stdout",
          "text": [
            "\n",
            "Python Conditionals:\n",
            "You is smol.\n"
          ]
        }
      ]
    },
    {
      "cell_type": "code",
      "source": [
        "# 5. Python Loops\n",
        "print(\"\\nPython Loops:\")\n",
        "\n",
        "# Loops allow you to execute a block of code repeatedly.\n",
        "\n",
        "# For loop\n",
        "tree_byproducts = [\"Tomato\", \"Lemon\", \"Acorn\"]\n",
        "for fruit in fruits:\n",
        "    print(tree_byproducts)\n",
        "\n",
        "# While loop\n",
        "count = 0\n",
        "while count < 15:\n",
        "    print(count)\n",
        "    count += 1\n",
        "\n"
      ],
      "metadata": {
        "colab": {
          "base_uri": "https://localhost:8080/"
        },
        "id": "QcMk_LOaJB-j",
        "outputId": "56caa5ec-62e2-4e63-c333-5989468efebf"
      },
      "execution_count": 4,
      "outputs": [
        {
          "output_type": "stream",
          "name": "stdout",
          "text": [
            "\n",
            "Python Loops:\n",
            "['Tomato', 'Lemon', 'Acorn']\n",
            "['Tomato', 'Lemon', 'Acorn']\n",
            "['Tomato', 'Lemon', 'Acorn']\n",
            "0\n",
            "1\n",
            "2\n",
            "3\n",
            "4\n",
            "5\n",
            "6\n",
            "7\n",
            "8\n",
            "9\n",
            "10\n",
            "11\n",
            "12\n",
            "13\n",
            "14\n"
          ]
        }
      ]
    },
    {
      "cell_type": "code",
      "source": [
        "# 6. Python Functions\n",
        "print(\"\\nPython Functions:\")\n",
        "\n",
        "# Functions are reusable blocks of code that perform a specific task.\n",
        "def greet(name):\n",
        "    print(f\"Auf wiedersehen, {name}!\")\n",
        "\n",
        "greet(\"Agent Smith\")\n"
      ],
      "metadata": {
        "colab": {
          "base_uri": "https://localhost:8080/"
        },
        "id": "PFZKp1qnJII-",
        "outputId": "2a63e85d-fc4f-4b39-9378-ca6042f3518e"
      },
      "execution_count": 11,
      "outputs": [
        {
          "output_type": "stream",
          "name": "stdout",
          "text": [
            "\n",
            "Python Functions:\n",
            "Auf wiedersehen, Agent Smith!\n"
          ]
        }
      ]
    },
    {
      "cell_type": "code",
      "source": [
        "# 7. Functions & the Math Package\n",
        "print(\"Print the value of Pi\")\n",
        "\n",
        "import math\n",
        "\n",
        "print(f\"Pi: {math.pi}\")\n",
        "\n",
        "#https://realpython.com/python-math-module/"
      ],
      "metadata": {
        "colab": {
          "base_uri": "https://localhost:8080/"
        },
        "id": "DTbpXtRuKwB4",
        "outputId": "f4c52b1d-c3d8-4bea-b240-3be2da4b28b2"
      },
      "execution_count": 14,
      "outputs": [
        {
          "output_type": "stream",
          "name": "stdout",
          "text": [
            "Print the value of Pi\n",
            "Pi: 3.141592653589793\n"
          ]
        }
      ]
    },
    {
      "cell_type": "code",
      "source": [
        "# 8. Define a function to find the radius of a circle\n",
        "def calculate_circle_area(radius):\n",
        "    \"\"\"\n",
        "    Calculate the area of a circle.\n",
        "\n",
        "    Args:\n",
        "        radius (float): The radius of the circle.\n",
        "\n",
        "    Returns:\n",
        "        float: The area of the circle.\n",
        "    \"\"\"\n",
        "    area = math.pi * radius ** 2\n",
        "    return area\n",
        "\n",
        "radius = 27.2\n",
        "circle_area = calculate_circle_area(radius)\n",
        "print(f\"The area of a circle with radius {radius} is {circle_area:.2f}\")\n"
      ],
      "metadata": {
        "colab": {
          "base_uri": "https://localhost:8080/"
        },
        "id": "ABO7YY0tL4P_",
        "outputId": "5cb642aa-a4b6-4414-d4b6-7256c371cb45"
      },
      "execution_count": 19,
      "outputs": [
        {
          "output_type": "stream",
          "name": "stdout",
          "text": [
            "The area of a circle with radius 27.2 is 2324.28\n"
          ]
        }
      ]
    },
    {
      "cell_type": "code",
      "source": [
        "# 9. Define a function to reverse a string\n",
        "print(\"\\nExample 2: Reverse a String\")\n",
        "\n",
        "def reverse_string(input_string):\n",
        "    \"\"\"\n",
        "    Reverse the order of characters in a string.\n",
        "\n",
        "    Args:\n",
        "        input_string (str): The input string to be reversed.\n",
        "\n",
        "    Returns:\n",
        "        str: The reversed string.\n",
        "    \"\"\"\n",
        "    reversed_string = input_string[::-1]\n",
        "    return reversed_string\n",
        "\n",
        "original_string = \"Rats live on no evil staR\"\n",
        "reversed_string = reverse_string(original_string)\n",
        "print(f\"Original string: {original_string}\")\n",
        "print(f\"Reversed string: {reversed_string}\")\n",
        "\n",
        "#shifting letters by 1\n"
      ],
      "metadata": {
        "colab": {
          "base_uri": "https://localhost:8080/"
        },
        "id": "EPHYeq_rMR9S",
        "outputId": "cbf3d761-725e-4a7a-cd7a-1cef3b8f1bbd"
      },
      "execution_count": 22,
      "outputs": [
        {
          "output_type": "stream",
          "name": "stdout",
          "text": [
            "\n",
            "Example 2: Reverse a String\n",
            "Original string: Rats live on no evil staR\n",
            "Reversed string: Rats live on no evil staR\n"
          ]
        }
      ]
    },
    {
      "cell_type": "markdown",
      "source": [
        "All look forward to Nutmeg's algorithm"
      ],
      "metadata": {
        "id": "6xYZ006hCUTq"
      }
    },
    {
      "cell_type": "code",
      "source": [
        "# 10. Define a function with Default Parameters\n",
        "print(\"\\nExample 3: Function with Default Parameters\")\n",
        "\n",
        "def greet(name, greeting=\"Welcome Queen\"):\n",
        "    \"\"\"\n",
        "    Greet a person with a custom greeting.\n",
        "\n",
        "    Args:\n",
        "        name (str): The name of the person to greet.\n",
        "        greeting (str, optional): The greeting to use. Default is \"Hello\".\n",
        "\n",
        "    Returns:\n",
        "        str: The greeting message.\n",
        "    \"\"\"\n",
        "    message = f\"{greeting}, {name}!\"\n",
        "    return message\n",
        "\n",
        "print(greet(\"Toaster\"))\n",
        "print(greet(\"Talentia\", \"Cry out\"))\n"
      ],
      "metadata": {
        "colab": {
          "base_uri": "https://localhost:8080/"
        },
        "id": "8VtAa2NXMxwN",
        "outputId": "92a72c1b-43ee-4215-a78b-e47f2c097022"
      },
      "execution_count": 24,
      "outputs": [
        {
          "output_type": "stream",
          "name": "stdout",
          "text": [
            "\n",
            "Example 3: Function with Default Parameters\n",
            "Welcome Queen, Toaster!\n",
            "Cry out, Talentia!\n"
          ]
        }
      ]
    },
    {
      "cell_type": "markdown",
      "source": [
        "#Authenatication\n",
        "\n",
        "In this example we will look at HTTP Basic Authentication which is built on the HTTP Protocol. Login crednetials are sent as a header request as an encoded string. Before you jump into the code blocks below we have two readings to review.\n",
        "\n",
        "Reading 1: [Web Authentication Methods Compared](https://testdriven.io/blog/web-authentication-methods/) by Amal Shaji on testdriven.io is an excellent overview. You can pull his code bits into your own Colab notebook to test them out.\n",
        "\n",
        "\n",
        "Base64 encoding is a text encoding string that represents binary data into an ASCII string, allowing it to carry data stored in a binary format across channels.\n",
        "\n",
        "[Before going further, jump into this reading on Base 64 Encoding: What is it? How Does It Work?](https://builtin.com/software-engineering-perspectives/base64-encoding)\n"
      ],
      "metadata": {
        "id": "tnWb2d16DUyr"
      }
    },
    {
      "cell_type": "code",
      "source": [
        "#Define a function to encode a string using Base64\n",
        "import base64\n",
        "\n",
        "def base64_encode(input_string):\n",
        "    encoded_bytes = base64.b64encode(input_string.encode(\"utf-8\"))\n",
        "    return encoded_bytes.decode(\"utf-8\")"
      ],
      "metadata": {
        "id": "WvLaPfnZHCmB"
      },
      "execution_count": 25,
      "outputs": []
    },
    {
      "cell_type": "code",
      "source": [
        "#Define a function to decode a Base64-encoded string\n",
        "def base64_decode(encoded_string):\n",
        "    decoded_bytes = base64.b64decode(encoded_string.encode(\"utf-8\"))\n",
        "    return decoded_bytes.decode(\"utf-8\")"
      ],
      "metadata": {
        "id": "EbqMdx7KHC0C"
      },
      "execution_count": 26,
      "outputs": []
    },
    {
      "cell_type": "markdown",
      "source": [
        "## Demonstrate Base64 encoding and decoding\n",
        "\n",
        "* Take user input (a string)\n",
        "* Encode the input string using Base64\n",
        "* Decode the Base64-encoded string\n",
        "* Print the original and decoded strings to verify the process"
      ],
      "metadata": {
        "id": "JxfDx-LG2gkD"
      }
    },
    {
      "cell_type": "code",
      "source": [
        "#Now we are going to write a function to demonstrate how to encode and decode using Base 64\n",
        "\n",
        "input_string = input(\"Enter a string: \")\n",
        "encoded_string = base64_encode(input_string)\n",
        "decoded_string = base64_decode(encoded_string)\n",
        "\n",
        "print(f\"Original string: {input_string}\")\n",
        "print(f\"Base64 encoded: {encoded_string}\")\n",
        "print(f\"Decoded string: {decoded_string}\")"
      ],
      "metadata": {
        "colab": {
          "base_uri": "https://localhost:8080/"
        },
        "id": "kCTIwCqKHDAi",
        "outputId": "a8316d83-0240-45ad-a14c-8f2fbc006e7e"
      },
      "execution_count": 30,
      "outputs": [
        {
          "output_type": "stream",
          "name": "stdout",
          "text": [
            "Enter a string: Hello\n",
            "Original string: Hello\n",
            "Base64 encoded: SGVsbG8=\n",
            "Decoded string: Hello\n"
          ]
        }
      ]
    },
    {
      "cell_type": "code",
      "source": [
        "def base64_auth(username, password):\n",
        "    auth_string = f\"{username}:{password}\"\n",
        "    encoded_auth = base64_encode(auth_string)\n",
        "    return encoded_auth"
      ],
      "metadata": {
        "id": "_ykAoX3m5f82"
      },
      "execution_count": 32,
      "outputs": []
    },
    {
      "cell_type": "code",
      "source": [
        "username = input(\"Username: \")\n",
        "password = input(\"Password: \")\n",
        "auth_header = base64_auth(username, password)\n",
        "print(f\"Authorization header: Basic {auth_header}\")"
      ],
      "metadata": {
        "colab": {
          "base_uri": "https://localhost:8080/"
        },
        "id": "MUctltbv5hS3",
        "outputId": "3363a562-3867-468e-9f4a-54888df3633d"
      },
      "execution_count": 33,
      "outputs": [
        {
          "output_type": "stream",
          "name": "stdout",
          "text": [
            "Username: Hello\n",
            "Password: Henlo\n",
            "Authorization header: Basic SGVsbG86SGVubG8=\n"
          ]
        }
      ]
    },
    {
      "cell_type": "markdown",
      "source": [
        "There are some tools out there to encode data for you available on the web that will to play around with encoding different types of media objects you can spend some time playing around with.\n",
        "\n",
        "https://www.base64encode.org/\n",
        "\n",
        "Remember Base64 is an encoding, not encryption (encoded data can be easily decoded)\n",
        "I can not overstate enough the importance of using HTTPS for secure communication\n"
      ],
      "metadata": {
        "id": "3P-5A38DPJ3X"
      }
    },
    {
      "cell_type": "markdown",
      "source": [
        "#What is Hashing?\n",
        "\n",
        "In theory reconstructing an MD5 hash from its output value is computationally infeasible due to the one-way nature of the MD5 hashing algorithm.\n",
        "\n",
        "Before moving further with the code blocks take a minut to review the following readings on hashing.\n",
        "\n",
        "The process of converting data -\n",
        "\n",
        "Hashing: A Fundamental Technique in Data Structures https://medium.com/@beyond_verse/hashing-a-fundamental-technique-in-data-structures-bab11d6f85fc\n",
        "\n",
        "What is Hashing, and How Does It Work? https://www.codecademy.com/resources/blog/what-is-hashing/\n",
        "\n",
        "Introduction to Hashing - Data Structure and Algoithm Tutorials: https://www.geeksforgeeks.org/introduction-to-hashing-data-structure-and-algorithm-tutorials/\n"
      ],
      "metadata": {
        "id": "uLYJQkTcOGUP"
      }
    },
    {
      "cell_type": "code",
      "execution_count": null,
      "metadata": {
        "id": "nKZb5dkJMbp0"
      },
      "outputs": [],
      "source": [
        "import hashlib"
      ]
    },
    {
      "cell_type": "code",
      "source": [
        "def hash_md5(input_string):\n",
        "    md5 = hashlib.md5()\n",
        "    md5.update(input_string.encode())\n",
        "    return md5.hexdigest()\n",
        "\n",
        "def hash_sha1(input_string):\n",
        "    sha1 = hashlib.sha1()\n",
        "    sha1.update(input_string.encode())\n",
        "    return sha1.hexdigest()\n",
        "\n",
        "def hash_sha256(input_string):\n",
        "    sha256 = hashlib.sha256()\n",
        "    sha256.update(input_string.encode())\n",
        "    return sha256.hexdigest()"
      ],
      "metadata": {
        "id": "fRxdSgzhMe9n"
      },
      "execution_count": 42,
      "outputs": []
    },
    {
      "cell_type": "code",
      "source": [
        "import hashlib\n",
        "input_string = input(\"Enter a string: \")\n",
        "def hash_md5(input_string):\n",
        "    md5 = hashlib.md5()\n",
        "    md5.update(input_string.encode())\n",
        "    return md5.hexdigest()\n",
        "def hash_sha1(input_string):\n",
        "    sha1 = hashlib.sha1()\n",
        "    sha1.update(input_string.encode())\n",
        "    return sha1.hexdigest()\n",
        "\n",
        "def hash_sha256(input_string):\n",
        "    sha256 = hashlib.sha256()\n",
        "    sha256.update(input_string.encode())\n",
        "    return sha256.hexdigest()\n",
        "print(f\"MD5 hash: {hash_md5(input_string)}\")\n",
        "print(f\"SHA-1 hash: {hash_sha1(input_string)}\")\n",
        "print(f\"SHA-256 hash: {hash_sha256(input_string)}\")"
      ],
      "metadata": {
        "colab": {
          "base_uri": "https://localhost:8080/"
        },
        "id": "LjOy942OMh4N",
        "outputId": "2b11163d-f1fc-46cd-a788-158a7ebda337"
      },
      "execution_count": 46,
      "outputs": [
        {
          "output_type": "stream",
          "name": "stdout",
          "text": [
            "Enter a string: hi\n",
            "MD5 hash: 49f68a5c8493ec2c0bf489821c21fc3b\n",
            "SHA-1 hash: c22b5f9178342609428d6f51b2c5af4c0bde6a42\n",
            "SHA-256 hash: 8f434346648f6b96df89dda901c5176b10a6d83961dd3c1ac88b59b2dc327aa4\n"
          ]
        }
      ]
    },
    {
      "cell_type": "code",
      "source": [
        "input_string2 = input(\"Enter a string: \")\n",
        "\n",
        "print(f\"MD5 hash: {hash_md5(input_string2)}\")\n",
        "print(f\"SHA-1 hash: {hash_sha1(input_string2)}\")\n",
        "print(f\"SHA-256 hash: {hash_sha256(input_string2)}\")"
      ],
      "metadata": {
        "colab": {
          "base_uri": "https://localhost:8080/"
        },
        "id": "wiS0qQDpMqsF",
        "outputId": "46d1e4e4-45d0-4fdf-a4b0-4ba75c3add0e"
      },
      "execution_count": null,
      "outputs": [
        {
          "output_type": "stream",
          "name": "stdout",
          "text": [
            "Enter a string: These are not your droids\n",
            "MD5 hash: b566cd78f0ff869da5077cd1e30f5538\n",
            "SHA-1 hash: bedb09609f6aa4b0a3e1f7fe4affb0a660fc4778\n",
            "SHA-256 hash: ba21b53063a3527d47a6b8c57f3d46f569d92fb98a38ab3175477abd9df82ed2\n"
          ]
        }
      ]
    },
    {
      "cell_type": "markdown",
      "source": [
        "In this example, we defined a function md5_hash that takes an input string, encodes it using UTF-8, and then calculates its MD5 hash using the hashlib module in Python. The function returns the hexadecimal representation of the hash value.\n",
        "\n",
        "We then provide an input string \"Information is Beautiful\", call the md5_hash function with this input, and print both the input string and the resulting MD5 hash value.\n",
        "\n",
        "It's important to note that the MD5 hashing algorithm is now considered insecure for certain applications due to its susceptibility to collisions and other attacks. For secure hashing, it is recommended to use stronger algorithms like SHA-256 or SHA-3."
      ],
      "metadata": {
        "id": "KB7X31Go3r1j"
      }
    }
  ]
}